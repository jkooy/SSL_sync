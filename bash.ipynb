{
 "cells": [
  {
   "cell_type": "code",
   "execution_count": null,
   "metadata": {},
   "outputs": [],
   "source": [
    "!"
   ]
  },
  {
   "cell_type": "code",
   "execution_count": 16,
   "metadata": {},
   "outputs": [],
   "source": [
    "import torch as torch"
   ]
  },
  {
   "cell_type": "code",
   "execution_count": 17,
   "metadata": {},
   "outputs": [],
   "source": [
    "y = torch.rand(5, 3)"
   ]
  },
  {
   "cell_type": "code",
   "execution_count": 18,
   "metadata": {},
   "outputs": [
    {
     "ename": "AttributeError",
     "evalue": "'Tensor' object has no attribute 'T'",
     "output_type": "error",
     "traceback": [
      "\u001b[0;31m\u001b[0m",
      "\u001b[0;31mAttributeError\u001b[0mTraceback (most recent call last)",
      "\u001b[0;32m<ipython-input-18-5ee02da0f137>\u001b[0m in \u001b[0;36m<module>\u001b[0;34m()\u001b[0m\n\u001b[0;32m----> 1\u001b[0;31m \u001b[0mprint\u001b[0m\u001b[0;34m(\u001b[0m\u001b[0my\u001b[0m\u001b[0;34m.\u001b[0m\u001b[0mT\u001b[0m\u001b[0;34m)\u001b[0m\u001b[0;34m\u001b[0m\u001b[0;34m\u001b[0m\u001b[0m\n\u001b[0m",
      "\u001b[0;31mAttributeError\u001b[0m: 'Tensor' object has no attribute 'T'"
     ]
    }
   ],
   "source": [
    "print(y.T)"
   ]
  },
  {
   "cell_type": "code",
   "execution_count": 3,
   "metadata": {},
   "outputs": [
    {
     "name": "stdout",
     "output_type": "stream",
     "text": [
      "Requirement already satisfied: torchvision in /opt/conda/lib/python3.6/site-packages (0.2.1)\n",
      "Requirement already satisfied: numpy in /opt/conda/lib/python3.6/site-packages (from torchvision) (1.16.0)\n",
      "Requirement already satisfied: pillow>=4.1.1 in /opt/conda/lib/python3.6/site-packages (from torchvision) (5.4.1)\n",
      "Requirement already satisfied: six in /opt/conda/lib/python3.6/site-packages (from torchvision) (1.12.0)\n",
      "Requirement already satisfied: torch in /opt/conda/lib/python3.6/site-packages (from torchvision) (1.0.0)\n"
     ]
    }
   ],
   "source": [
    "!pip install torchvision --user"
   ]
  },
  {
   "cell_type": "code",
   "execution_count": 14,
   "metadata": {},
   "outputs": [
    {
     "name": "stdout",
     "output_type": "stream",
     "text": [
      "nvcc: NVIDIA (R) Cuda compiler driver\r\n",
      "Copyright (c) 2005-2017 NVIDIA Corporation\r\n",
      "Built on Fri_Sep__1_21:08:03_CDT_2017\r\n",
      "Cuda compilation tools, release 9.0, V9.0.176\r\n"
     ]
    }
   ],
   "source": [
    "!nvcc --version"
   ]
  },
  {
   "cell_type": "code",
   "execution_count": null,
   "metadata": {
    "scrolled": true
   },
   "outputs": [
    {
     "name": "stdout",
     "output_type": "stream",
     "text": [
      "Use GPU: 0 for training\n",
      "=> creating model 'resnet50'\n",
      "2020-05-18 12:16:22,860 - /datasets/home/home-03/93/693/x5he/tl-ssl/ssl/moco/main_moco.py[line:275] - INFO: len 108754\n",
      "2020-05-18 12:16:22,861 - /datasets/home/home-03/93/693/x5he/tl-ssl/ssl/moco/main_moco.py[line:275] - INFO: len 108754\n",
      "2020-05-18 12:16:22,863 - /datasets/home/home-03/93/693/x5he/tl-ssl/ssl/moco/main_moco.py[line:277] - INFO: len train 10875\n",
      "2020-05-18 12:16:22,865 - /datasets/home/home-03/93/693/x5he/tl-ssl/ssl/moco/main_moco.py[line:277] - INFO: len train 10875\n",
      "2020-05-18 12:16:41,071 - /datasets/home/home-03/93/693/x5he/tl-ssl/ssl/moco/main_moco.py[line:364] - INFO: Image corrupt\n",
      "2020-05-18 12:16:43,096 - /datasets/home/home-03/93/693/x5he/tl-ssl/ssl/moco/main_moco.py[line:364] - INFO: Image corrupt\n",
      "Model Saved\n",
      "2020-05-18 12:17:02,934 - /datasets/home/home-03/93/693/x5he/tl-ssl/ssl/moco/main_moco.py[line:364] - INFO: Image corrupt\n",
      "2020-05-18 12:17:04,574 - /datasets/home/home-03/93/693/x5he/tl-ssl/ssl/moco/main_moco.py[line:364] - INFO: Image corrupt\n",
      "2020-05-18 12:17:25,099 - /datasets/home/home-03/93/693/x5he/tl-ssl/ssl/moco/main_moco.py[line:364] - INFO: Image corrupt\n",
      "2020-05-18 12:17:27,370 - /datasets/home/home-03/93/693/x5he/tl-ssl/ssl/moco/main_moco.py[line:364] - INFO: Image corrupt\n",
      "2020-05-18 12:17:47,696 - /datasets/home/home-03/93/693/x5he/tl-ssl/ssl/moco/main_moco.py[line:364] - INFO: Image corrupt\n",
      "2020-05-18 12:17:50,383 - /datasets/home/home-03/93/693/x5he/tl-ssl/ssl/moco/main_moco.py[line:364] - INFO: Image corrupt\n",
      "2020-05-18 12:18:10,595 - /datasets/home/home-03/93/693/x5he/tl-ssl/ssl/moco/main_moco.py[line:364] - INFO: Image corrupt\n",
      "2020-05-18 12:18:13,626 - /datasets/home/home-03/93/693/x5he/tl-ssl/ssl/moco/main_moco.py[line:364] - INFO: Image corrupt\n",
      "2020-05-18 12:18:34,181 - /datasets/home/home-03/93/693/x5he/tl-ssl/ssl/moco/main_moco.py[line:364] - INFO: Image corrupt\n",
      "2020-05-18 12:18:37,726 - /datasets/home/home-03/93/693/x5he/tl-ssl/ssl/moco/main_moco.py[line:364] - INFO: Image corrupt\n",
      "Model Saved\n",
      "2020-05-18 12:18:57,995 - /datasets/home/home-03/93/693/x5he/tl-ssl/ssl/moco/main_moco.py[line:364] - INFO: Image corrupt\n",
      "2020-05-18 12:19:01,099 - /datasets/home/home-03/93/693/x5he/tl-ssl/ssl/moco/main_moco.py[line:364] - INFO: Image corrupt\n",
      "2020-05-18 12:19:21,570 - /datasets/home/home-03/93/693/x5he/tl-ssl/ssl/moco/main_moco.py[line:364] - INFO: Image corrupt\n",
      "2020-05-18 12:19:21,578 - /datasets/home/home-03/93/693/x5he/tl-ssl/ssl/moco/main_moco.py[line:364] - INFO: Image corrupt\n",
      "2020-05-18 12:19:44,328 - /datasets/home/home-03/93/693/x5he/tl-ssl/ssl/moco/main_moco.py[line:364] - INFO: Image corrupt\n",
      "2020-05-18 12:19:47,700 - /datasets/home/home-03/93/693/x5he/tl-ssl/ssl/moco/main_moco.py[line:364] - INFO: Image corrupt\n",
      "2020-05-18 12:20:07,884 - /datasets/home/home-03/93/693/x5he/tl-ssl/ssl/moco/main_moco.py[line:364] - INFO: Image corrupt\n",
      "2020-05-18 12:20:11,883 - /datasets/home/home-03/93/693/x5he/tl-ssl/ssl/moco/main_moco.py[line:364] - INFO: Image corrupt\n",
      "2020-05-18 12:20:32,196 - /datasets/home/home-03/93/693/x5he/tl-ssl/ssl/moco/main_moco.py[line:364] - INFO: Image corrupt\n",
      "2020-05-18 12:20:35,982 - /datasets/home/home-03/93/693/x5he/tl-ssl/ssl/moco/main_moco.py[line:364] - INFO: Image corrupt\n",
      "Model Saved\n",
      "2020-05-18 12:20:55,671 - /datasets/home/home-03/93/693/x5he/tl-ssl/ssl/moco/main_moco.py[line:364] - INFO: Image corrupt\n",
      "2020-05-18 12:20:57,975 - /datasets/home/home-03/93/693/x5he/tl-ssl/ssl/moco/main_moco.py[line:364] - INFO: Image corrupt\n",
      "2020-05-18 12:21:18,420 - /datasets/home/home-03/93/693/x5he/tl-ssl/ssl/moco/main_moco.py[line:364] - INFO: Image corrupt\n",
      "2020-05-18 12:21:21,986 - /datasets/home/home-03/93/693/x5he/tl-ssl/ssl/moco/main_moco.py[line:364] - INFO: Image corrupt\n",
      "2020-05-18 12:21:41,294 - /datasets/home/home-03/93/693/x5he/tl-ssl/ssl/moco/main_moco.py[line:364] - INFO: Image corrupt\n",
      "2020-05-18 12:21:44,599 - /datasets/home/home-03/93/693/x5he/tl-ssl/ssl/moco/main_moco.py[line:364] - INFO: Image corrupt\n",
      "2020-05-18 12:22:04,189 - /datasets/home/home-03/93/693/x5he/tl-ssl/ssl/moco/main_moco.py[line:364] - INFO: Image corrupt\n",
      "2020-05-18 12:22:08,699 - /datasets/home/home-03/93/693/x5he/tl-ssl/ssl/moco/main_moco.py[line:364] - INFO: Image corrupt\n",
      "2020-05-18 12:22:27,124 - /datasets/home/home-03/93/693/x5he/tl-ssl/ssl/moco/main_moco.py[line:364] - INFO: Image corrupt\n",
      "Model Saved\n",
      "2020-05-18 12:22:31,801 - /datasets/home/home-03/93/693/x5he/tl-ssl/ssl/moco/main_moco.py[line:364] - INFO: Image corrupt\n",
      "2020-05-18 12:22:51,011 - /datasets/home/home-03/93/693/x5he/tl-ssl/ssl/moco/main_moco.py[line:364] - INFO: Image corrupt\n"
     ]
    }
   ],
   "source": [
    "!python main_moco.py"
   ]
  },
  {
   "cell_type": "code",
   "execution_count": 4,
   "metadata": {},
   "outputs": [],
   "source": [
    "import os\n",
    "import random\n",
    "import shutil\n",
    "import time\n",
    "import warnings\n",
    "import torch\n",
    "import torch.nn as nn\n",
    "import torch.nn.parallel\n",
    "import torch.backends.cudnn as cudnn\n",
    "import torch.distributed as dist\n",
    "import torch.optim\n",
    "import torch.multiprocessing as mp\n",
    "import torch.utils.data\n",
    "import torch.utils.data.distributed\n",
    "import torchvision.transforms as transforms\n",
    "import torchvision.datasets as datasets\n",
    "# import torchvision.models as models\n",
    "from model import Densenet, Inceptionv3, ResNet, VGG, Efficientnet\n",
    "import moco.loader\n",
    "import moco.builder"
   ]
  },
  {
   "cell_type": "code",
   "execution_count": null,
   "metadata": {},
   "outputs": [
    {
     "name": "stdout",
     "output_type": "stream",
     "text": [
      "Use GPU: 0 for training\n",
      "=> creating model 'resnet50'\n",
      "/opt/conda/lib/python3.6/site-packages/PIL/TiffImagePlugin.py:763: UserWarning: Possibly corrupt EXIF data.  Expecting to read 4718592 bytes but only got 0. Skipping tag 0\n",
      "  \" Skipping tag %s\" % (size, len(data), tag))\n",
      "Epoch: [0][  0/849]\tTime 82.532 (82.532)\tData 38.901 (38.901)\tLoss  0.024 ( 0.024)\tAcc@1 100.00 (100.00)\tAcc@5 100.00 (100.00)\n",
      "/opt/conda/lib/python3.6/site-packages/PIL/TiffImagePlugin.py:763: UserWarning: Possibly corrupt EXIF data.  Expecting to read 1385478 bytes but only got 27197. Skipping tag 513\n",
      "  \" Skipping tag %s\" % (size, len(data), tag))\n",
      "/opt/conda/lib/python3.6/site-packages/PIL/TiffImagePlugin.py:763: UserWarning: Possibly corrupt EXIF data.  Expecting to read 7276331008 bytes but only got 0. Skipping tag 7\n",
      "  \" Skipping tag %s\" % (size, len(data), tag))\n",
      "/opt/conda/lib/python3.6/site-packages/PIL/TiffImagePlugin.py:763: UserWarning: Possibly corrupt EXIF data.  Expecting to read 653262848 bytes but only got 0. Skipping tag 4\n",
      "  \" Skipping tag %s\" % (size, len(data), tag))\n",
      "/opt/conda/lib/python3.6/site-packages/PIL/TiffImagePlugin.py:763: UserWarning: Possibly corrupt EXIF data.  Expecting to read 1873215488 bytes but only got 0. Skipping tag 4\n",
      "  \" Skipping tag %s\" % (size, len(data), tag))\n",
      "/opt/conda/lib/python3.6/site-packages/PIL/TiffImagePlugin.py:763: UserWarning: Possibly corrupt EXIF data.  Expecting to read 1073020928 bytes but only got 27197. Skipping tag 4\n",
      "  \" Skipping tag %s\" % (size, len(data), tag))\n",
      "/opt/conda/lib/python3.6/site-packages/PIL/TiffImagePlugin.py:763: UserWarning: Possibly corrupt EXIF data.  Expecting to read 5464072 bytes but only got 0. Skipping tag 18947\n",
      "  \" Skipping tag %s\" % (size, len(data), tag))\n",
      "/opt/conda/lib/python3.6/site-packages/PIL/TiffImagePlugin.py:763: UserWarning: Possibly corrupt EXIF data.  Expecting to read 578814084 bytes but only got 0. Skipping tag 136\n",
      "  \" Skipping tag %s\" % (size, len(data), tag))\n",
      "/opt/conda/lib/python3.6/site-packages/PIL/TiffImagePlugin.py:763: UserWarning: Possibly corrupt EXIF data.  Expecting to read 27525248 bytes but only got 0. Skipping tag 49365\n",
      "  \" Skipping tag %s\" % (size, len(data), tag))\n",
      "/opt/conda/lib/python3.6/site-packages/PIL/TiffImagePlugin.py:763: UserWarning: Possibly corrupt EXIF data.  Expecting to read 681574480 bytes but only got 27102. Skipping tag 28844\n",
      "  \" Skipping tag %s\" % (size, len(data), tag))\n",
      "/opt/conda/lib/python3.6/site-packages/PIL/TiffImagePlugin.py:763: UserWarning: Possibly corrupt EXIF data.  Expecting to read 1442320 bytes but only got 0. Skipping tag 344\n",
      "  \" Skipping tag %s\" % (size, len(data), tag))\n",
      "/opt/conda/lib/python3.6/site-packages/PIL/TiffImagePlugin.py:763: UserWarning: Possibly corrupt EXIF data.  Expecting to read 289669320 bytes but only got 0. Skipping tag 16389\n",
      "  \" Skipping tag %s\" % (size, len(data), tag))\n",
      "/opt/conda/lib/python3.6/site-packages/PIL/TiffImagePlugin.py:763: UserWarning: Possibly corrupt EXIF data.  Expecting to read 41943296 bytes but only got 0. Skipping tag 1026\n",
      "  \" Skipping tag %s\" % (size, len(data), tag))\n",
      "/opt/conda/lib/python3.6/site-packages/PIL/TiffImagePlugin.py:763: UserWarning: Possibly corrupt EXIF data.  Expecting to read 2147504132 bytes but only got 0. Skipping tag 2304\n",
      "  \" Skipping tag %s\" % (size, len(data), tag))\n",
      "/opt/conda/lib/python3.6/site-packages/PIL/TiffImagePlugin.py:763: UserWarning: Possibly corrupt EXIF data.  Expecting to read 134318080 bytes but only got 0. Skipping tag 25088\n",
      "  \" Skipping tag %s\" % (size, len(data), tag))\n",
      "/opt/conda/lib/python3.6/site-packages/PIL/TiffImagePlugin.py:763: UserWarning: Possibly corrupt EXIF data.  Expecting to read 156499988 bytes but only got 0. Skipping tag 217\n",
      "  \" Skipping tag %s\" % (size, len(data), tag))\n",
      "/opt/conda/lib/python3.6/site-packages/PIL/TiffImagePlugin.py:763: UserWarning: Possibly corrupt EXIF data.  Expecting to read 11602290 bytes but only got 0. Skipping tag 64\n",
      "  \" Skipping tag %s\" % (size, len(data), tag))\n",
      "/opt/conda/lib/python3.6/site-packages/PIL/TiffImagePlugin.py:763: UserWarning: Possibly corrupt EXIF data.  Expecting to read 540016656 bytes but only got 0. Skipping tag 149\n",
      "  \" Skipping tag %s\" % (size, len(data), tag))\n",
      "/opt/conda/lib/python3.6/site-packages/PIL/TiffImagePlugin.py:763: UserWarning: Possibly corrupt EXIF data.  Expecting to read 28256 bytes but only got 0. Skipping tag 50389\n",
      "  \" Skipping tag %s\" % (size, len(data), tag))\n",
      "/opt/conda/lib/python3.6/site-packages/PIL/TiffImagePlugin.py:763: UserWarning: Possibly corrupt EXIF data.  Expecting to read 50176 bytes but only got 7725. Skipping tag 63401\n",
      "  \" Skipping tag %s\" % (size, len(data), tag))\n",
      "/opt/conda/lib/python3.6/site-packages/PIL/TiffImagePlugin.py:763: UserWarning: Possibly corrupt EXIF data.  Expecting to read 671088900 bytes but only got 0. Skipping tag 20\n",
      "  \" Skipping tag %s\" % (size, len(data), tag))\n",
      "/opt/conda/lib/python3.6/site-packages/PIL/TiffImagePlugin.py:763: UserWarning: Possibly corrupt EXIF data.  Expecting to read 65537 bytes but only got 0. Skipping tag 33296\n",
      "  \" Skipping tag %s\" % (size, len(data), tag))\n",
      "/opt/conda/lib/python3.6/site-packages/PIL/TiffImagePlugin.py:763: UserWarning: Possibly corrupt EXIF data.  Expecting to read 262146 bytes but only got 0. Skipping tag 2\n",
      "  \" Skipping tag %s\" % (size, len(data), tag))\n",
      "/opt/conda/lib/python3.6/site-packages/PIL/TiffImagePlugin.py:763: UserWarning: Possibly corrupt EXIF data.  Expecting to read 262151 bytes but only got 0. Skipping tag 56\n",
      "  \" Skipping tag %s\" % (size, len(data), tag))\n",
      "/opt/conda/lib/python3.6/site-packages/PIL/TiffImagePlugin.py:780: UserWarning: Corrupt EXIF data.  Expecting to read 12 bytes but only got 4. \n",
      "  warnings.warn(str(msg))\n",
      "Epoch: [0][ 20/849]\tTime  5.298 ( 7.190)\tData  0.000 ( 1.866)\tLoss  7.376 ( 6.613)\tAcc@1   3.12 (  6.40)\tAcc@5   6.25 ( 10.71)\n",
      "Epoch: [0][ 40/849]\tTime  2.200 ( 5.693)\tData  0.000 ( 0.956)\tLoss  7.070 ( 6.888)\tAcc@1   9.38 (  6.78)\tAcc@5  15.62 ( 14.25)\n",
      "Epoch: [0][ 60/849]\tTime  1.491 ( 5.638)\tData  0.000 ( 0.644)\tLoss  7.111 ( 6.944)\tAcc@1   9.38 (  8.35)\tAcc@5  31.25 ( 17.11)\n",
      "/opt/conda/lib/python3.6/site-packages/PIL/TiffImagePlugin.py:763: UserWarning: Possibly corrupt EXIF data.  Expecting to read 2621440 bytes but only got 0. Skipping tag 19788\n",
      "  \" Skipping tag %s\" % (size, len(data), tag))\n",
      "/opt/conda/lib/python3.6/site-packages/PIL/TiffImagePlugin.py:763: UserWarning: Possibly corrupt EXIF data.  Expecting to read 80000 bytes but only got 0. Skipping tag 64640\n",
      "  \" Skipping tag %s\" % (size, len(data), tag))\n",
      "/opt/conda/lib/python3.6/site-packages/PIL/TiffImagePlugin.py:763: UserWarning: Possibly corrupt EXIF data.  Expecting to read 2684485632 bytes but only got 0. Skipping tag 0\n",
      "  \" Skipping tag %s\" % (size, len(data), tag))\n",
      "/opt/conda/lib/python3.6/site-packages/PIL/TiffImagePlugin.py:763: UserWarning: Possibly corrupt EXIF data.  Expecting to read 5469503488 bytes but only got 0. Skipping tag 0\n",
      "  \" Skipping tag %s\" % (size, len(data), tag))\n",
      "/opt/conda/lib/python3.6/site-packages/PIL/TiffImagePlugin.py:763: UserWarning: Possibly corrupt EXIF data.  Expecting to read 17956864 bytes but only got 0. Skipping tag 0\n",
      "  \" Skipping tag %s\" % (size, len(data), tag))\n",
      "/opt/conda/lib/python3.6/site-packages/PIL/TiffImagePlugin.py:763: UserWarning: Possibly corrupt EXIF data.  Expecting to read 18481152 bytes but only got 0. Skipping tag 0\n",
      "  \" Skipping tag %s\" % (size, len(data), tag))\n",
      "/opt/conda/lib/python3.6/site-packages/PIL/TiffImagePlugin.py:763: UserWarning: Possibly corrupt EXIF data.  Expecting to read 33619968 bytes but only got 0. Skipping tag 0\n",
      "  \" Skipping tag %s\" % (size, len(data), tag))\n",
      "/opt/conda/lib/python3.6/site-packages/PIL/TiffImagePlugin.py:780: UserWarning: Corrupt EXIF data.  Expecting to read 12 bytes but only got 6. \n",
      "  warnings.warn(str(msg))\n",
      "Epoch: [0][ 80/849]\tTime  2.196 ( 5.149)\tData  0.000 ( 0.488)\tLoss  7.190 ( 6.989)\tAcc@1  34.38 (  9.22)\tAcc@5  40.62 ( 19.68)\n"
     ]
    }
   ],
   "source": [
    "!python main_moco.py \\\n",
    "  -a resnet50 \\\n",
    "  --lr 0.03 \\\n",
    "  --batch-size 128 \\\n",
    "  --dist-url 'tcp://localhost:10001' --multiprocessing-distributed MULTIPROCESSING_DISTRIBUTED --world-size 1 --rank 0 \\\n",
    "#     [./SUN397]"
   ]
  },
  {
   "cell_type": "code",
   "execution_count": 4,
   "metadata": {},
   "outputs": [
    {
     "name": "stdout",
     "output_type": "stream",
     "text": [
      "Collecting torchvision.models\n",
      "\u001b[31m  Could not find a version that satisfies the requirement torchvision.models (from versions: )\u001b[0m\n",
      "\u001b[31mNo matching distribution found for torchvision.models\u001b[0m\n"
     ]
    }
   ],
   "source": [
    "!pip install torchvision2.models --user"
   ]
  },
  {
   "cell_type": "code",
   "execution_count": null,
   "metadata": {},
   "outputs": [],
   "source": []
  }
 ],
 "metadata": {
  "kernelspec": {
   "display_name": "Python 3",
   "language": "python",
   "name": "python3"
  },
  "language_info": {
   "codemirror_mode": {
    "name": "ipython",
    "version": 3
   },
   "file_extension": ".py",
   "mimetype": "text/x-python",
   "name": "python",
   "nbconvert_exporter": "python",
   "pygments_lexer": "ipython3",
   "version": "3.6.8"
  }
 },
 "nbformat": 4,
 "nbformat_minor": 2
}
